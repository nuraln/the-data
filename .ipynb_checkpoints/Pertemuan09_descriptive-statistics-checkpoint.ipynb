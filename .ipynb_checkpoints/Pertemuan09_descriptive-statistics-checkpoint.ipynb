{
 "cells": [
  {
   "cell_type": "markdown",
   "id": "8b878fc3",
   "metadata": {},
   "source": [
    "# Descriptive Statistics\n",
    "\n",
    "Meringkas/summarizing dan mengatur data sehingga dapat dengan mudah dipahami, statistik ini berbeda dengan statistik inferential tidak dikembangkan berdasarkan teori probabilitas.\n",
    "\n",
    "Desciptive statistic akan membantu kita lebih memahami apa yang coba diceritakan oleh data kita, yang akan menghasilkan model dan pemahaman machine learning yang lebih baik secara keseluruhan."
   ]
  },
  {
   "cell_type": "code",
   "execution_count": 1,
   "id": "fa870c07",
   "metadata": {},
   "outputs": [],
   "source": [
    "import math\n",
    "import statistics \n",
    "import numpy as np\n",
    "import scipy.stats\n",
    "import pandas as pd"
   ]
  },
  {
   "cell_type": "code",
   "execution_count": 2,
   "id": "d68ad2ee",
   "metadata": {},
   "outputs": [
    {
     "name": "stdout",
     "output_type": "stream",
     "text": [
      "[8.0, 1, 2.5, 4, 28.0]\n",
      "[8.0, 1, 2.5, nan, 4, 28.0]\n"
     ]
    }
   ],
   "source": [
    "x = [8.0, 1, 2.5, 4, 28.0]\n",
    "x_with_nan = [8.0, 1, 2.5, math.nan, 4, 28.0]\n",
    "print(x)\n",
    "print(x_with_nan)"
   ]
  },
  {
   "cell_type": "code",
   "execution_count": 3,
   "id": "26e8978d",
   "metadata": {},
   "outputs": [
    {
     "name": "stdout",
     "output_type": "stream",
     "text": [
      "[ 8.   1.   2.5  4.  28. ]\n",
      "[ 8.   1.   2.5  nan  4.  28. ]\n",
      "0     8.0\n",
      "1     1.0\n",
      "2     2.5\n",
      "3     NaN\n",
      "4     4.0\n",
      "5    28.0\n",
      "dtype: float64\n"
     ]
    }
   ],
   "source": [
    "# Membuat numpy array\n",
    "y, y_with_nan = np.array(x), np.array(x_with_nan)\n",
    "z, z_with_nan = pd.Series(x), pd.Series(x_with_nan)\n",
    "print(y)\n",
    "print(y_with_nan)\n",
    "print(z_with_nan)"
   ]
  },
  {
   "cell_type": "code",
   "execution_count": 4,
   "id": "1105876d",
   "metadata": {},
   "outputs": [
    {
     "data": {
      "text/plain": [
       "8.7"
      ]
     },
     "execution_count": 4,
     "metadata": {},
     "output_type": "execute_result"
    }
   ],
   "source": [
    "mean_ = sum(x)/len(x)\n",
    "mean_"
   ]
  },
  {
   "cell_type": "code",
   "execution_count": 5,
   "id": "eccc7a97",
   "metadata": {},
   "outputs": [
    {
     "name": "stdout",
     "output_type": "stream",
     "text": [
      "nan\n"
     ]
    }
   ],
   "source": [
    "mean_ = statistics.mean(x_with_nan)\n",
    "print(mean_)"
   ]
  },
  {
   "cell_type": "code",
   "execution_count": 6,
   "id": "2d81637a",
   "metadata": {},
   "outputs": [
    {
     "data": {
      "text/plain": [
       "8.7"
      ]
     },
     "execution_count": 6,
     "metadata": {},
     "output_type": "execute_result"
    }
   ],
   "source": [
    "mean_ = np.mean(y)\n",
    "mean_"
   ]
  },
  {
   "cell_type": "markdown",
   "id": "10c981bb",
   "metadata": {},
   "source": [
    "Dalam contoh di atas, mean() adalah fungsi, tetapi kita juga dapat menggunakan method .mean()"
   ]
  },
  {
   "cell_type": "code",
   "execution_count": 8,
   "id": "699b181d",
   "metadata": {},
   "outputs": [
    {
     "name": "stdout",
     "output_type": "stream",
     "text": [
      "nan\n",
      "nan\n"
     ]
    }
   ],
   "source": [
    "print(np.mean(y_with_nan))\n",
    "print(y_with_nan.mean())"
   ]
  },
  {
   "cell_type": "markdown",
   "id": "2788c634",
   "metadata": {},
   "source": [
    "#### Rata-rata pake numpy"
   ]
  },
  {
   "cell_type": "code",
   "execution_count": 12,
   "id": "086fa745",
   "metadata": {},
   "outputs": [
    {
     "data": {
      "text/plain": [
       "8.7"
      ]
     },
     "execution_count": 12,
     "metadata": {},
     "output_type": "execute_result"
    }
   ],
   "source": [
    "# Rata-rata dengan mengabaikan nilai mean\n",
    "np.nanmean(y_with_nan)"
   ]
  },
  {
   "cell_type": "markdown",
   "id": "55265d52",
   "metadata": {},
   "source": [
    "#### Rata-rata pake Pandas series"
   ]
  },
  {
   "cell_type": "code",
   "execution_count": 14,
   "id": "4e444660",
   "metadata": {},
   "outputs": [
    {
     "data": {
      "text/plain": [
       "8.7"
      ]
     },
     "execution_count": 14,
     "metadata": {},
     "output_type": "execute_result"
    }
   ],
   "source": [
    "# Rata-rata do numpy secara default mengabaikan nilai nan\n",
    "mean_ = z.mean()\n",
    "mean_"
   ]
  },
  {
   "cell_type": "markdown",
   "id": "54f60404",
   "metadata": {},
   "source": [
    "## Weight Mean\n",
    "Adalah generalisasi dari rata-rata aritmetika yang memungkinkan kita untuk menentukan kontribusi relatif dari setiap titik data ke hasil.\n",
    "\n",
    "Kita menentukan satu bobot wi untuk setiap titik data xi dari dataset xi, dimana i = 1, i = 2, n adalalah jumlah item di x. Kemudian kita mengalikan setiap titik data dengan bobot yang sesuai, menjumlahkan semua produk, dan membagi jumlah yang diperoleh dengan jumlah bobot. \n",
    "\n",
    "Weight mean sangat berguna saat kita membutuhkan rata-rata kumpulan data yang berisi item yang muncul dengan frekuensi relatif tertentu. Misalnya, kita memiliki himpunan di mana 20 % dari semua item sama dengan 2, 50% item sama dengan 4, dan 30% sisanya sama dengan delapan\n",
    "\n",
    "Kita dapat menentukan rata-ratanya dengan:\n",
    "\n",
    "0.2 * 2 + 0.5 * 4 + 0.3 * 8\n",
    "\n",
    "Di sini, kita menghitungkan frekuensi dengan bobot. Dengan metode ini, kita tidak perlu mengetahui jumlah item."
   ]
  },
  {
   "cell_type": "code",
   "execution_count": 17,
   "id": "7b65b78d",
   "metadata": {},
   "outputs": [
    {
     "name": "stdout",
     "output_type": "stream",
     "text": [
      "6.95\n",
      "6.95\n"
     ]
    }
   ],
   "source": [
    "x = [8.0, 1, 2.5, 4, 28]\n",
    "w = [0.1, 0.2, 0.3, 0.25, 0.15]\n",
    "\n",
    "wmean = sum(w[i] * x[i] for i in range(len(x)))/sum(w)\n",
    "print(wmean)\n",
    "\n",
    "wmean = sum(x_ * w_ for (x_, w_) in zip (x, w))/sum(w)\n",
    "print(wmean)"
   ]
  },
  {
   "cell_type": "code",
   "execution_count": 22,
   "id": "b0a3b37d",
   "metadata": {},
   "outputs": [
    {
     "name": "stdout",
     "output_type": "stream",
     "text": [
      "6.95\n",
      "6.95\n"
     ]
    }
   ],
   "source": [
    "y, z, w = np.array(x), pd.Series(x), np.array(w)\n",
    "\n",
    "wmean = np.average(y, weights=w)\n",
    "print(wmean)\n",
    "\n",
    "wmean = np.average(z, weights=w)\n",
    "print(wmean)"
   ]
  },
  {
   "cell_type": "code",
   "execution_count": 23,
   "id": "613ef961",
   "metadata": {},
   "outputs": [
    {
     "data": {
      "text/plain": [
       "0     8.0\n",
       "1     1.0\n",
       "2     2.5\n",
       "3     4.0\n",
       "4    28.0\n",
       "dtype: float64"
      ]
     },
     "execution_count": 23,
     "metadata": {},
     "output_type": "execute_result"
    }
   ],
   "source": [
    "z"
   ]
  },
  {
   "cell_type": "code",
   "execution_count": 24,
   "id": "18aab06f",
   "metadata": {},
   "outputs": [
    {
     "data": {
      "text/plain": [
       "array([ 8. ,  1. ,  2.5,  4. , 28. ])"
      ]
     },
     "execution_count": 24,
     "metadata": {},
     "output_type": "execute_result"
    }
   ],
   "source": [
    "y"
   ]
  },
  {
   "cell_type": "code",
   "execution_count": 25,
   "id": "7108f1d8",
   "metadata": {},
   "outputs": [
    {
     "data": {
      "text/plain": [
       "array([0.1 , 0.2 , 0.3 , 0.25, 0.15])"
      ]
     },
     "execution_count": 25,
     "metadata": {},
     "output_type": "execute_result"
    }
   ],
   "source": [
    "w"
   ]
  },
  {
   "cell_type": "code",
   "execution_count": 26,
   "id": "301525f4",
   "metadata": {},
   "outputs": [
    {
     "data": {
      "text/plain": [
       "6.95"
      ]
     },
     "execution_count": 26,
     "metadata": {},
     "output_type": "execute_result"
    }
   ],
   "source": [
    "# Cara lain \n",
    "(w*y).sum()/w.sum()"
   ]
  },
  {
   "cell_type": "markdown",
   "id": "4e29c091",
   "metadata": {},
   "source": [
    "## Harmonic Mean\n",
    "is the reciprocal of the average of the reciprocals.\n",
    "\n",
    "Reciprocal artinya adalah 1/value\n",
    "\n",
    "misal data : 1, 2, 5, 100\n",
    "\n",
    "reciprocalnya : 1/1, 1/2, 1/5, 1/100\n",
    "\n",
    "harmonic mean bagus untuk handling outlier yang besar."
   ]
  },
  {
   "cell_type": "code",
   "execution_count": 27,
   "id": "9141662e",
   "metadata": {},
   "outputs": [
    {
     "data": {
      "text/plain": [
       "2.7613412228796843"
      ]
     },
     "execution_count": 27,
     "metadata": {},
     "output_type": "execute_result"
    }
   ],
   "source": [
    "hmean = len(x)/sum(1/item for item in x)\n",
    "hmean"
   ]
  },
  {
   "cell_type": "code",
   "execution_count": 29,
   "id": "bdcb986d",
   "metadata": {},
   "outputs": [
    {
     "data": {
      "text/plain": [
       "2.7613412228796843"
      ]
     },
     "execution_count": 29,
     "metadata": {},
     "output_type": "execute_result"
    }
   ],
   "source": [
    "# Cara lain\n",
    "hmean = statistics.harmonic_mean(x)\n",
    "hmean"
   ]
  },
  {
   "cell_type": "code",
   "execution_count": 30,
   "id": "07c9c4ac",
   "metadata": {},
   "outputs": [
    {
     "data": {
      "text/plain": [
       "2.7613412228796843"
      ]
     },
     "execution_count": 30,
     "metadata": {},
     "output_type": "execute_result"
    }
   ],
   "source": [
    "# Pake library scipy\n",
    "scipy.stats.hmean(y)"
   ]
  },
  {
   "cell_type": "code",
   "execution_count": 32,
   "id": "b222bb7d",
   "metadata": {},
   "outputs": [
    {
     "data": {
      "text/plain": [
       "0.1724137931034483"
      ]
     },
     "execution_count": 32,
     "metadata": {},
     "output_type": "execute_result"
    }
   ],
   "source": [
    "scipy.stats.hmean(w)"
   ]
  },
  {
   "cell_type": "markdown",
   "id": "edd3440e",
   "metadata": {},
   "source": [
    "## Geometric Mean\n",
    "Example: *what is the geometric mean of 2 and 18?\n",
    "\n",
    "* Pertama kita kalikan: 2 * 18 = 36\n",
    "* lalu ambil square root: akar(36) = 6\n",
    "\n",
    "Geometric mean berguna ketika kita ingin membandingkan berbagai hal dengan properti yang sangat berbeda.\n",
    "Example: *wan to buy a new camera.\n",
    "* The one has a zoom of 200 and gets an 8 in reviews.\n",
    "* The other has a zoom of 250 and gets a 6 in reviews.\n",
    "\n",
    "Menggunakan aritmethic mean kita akan mendapatkan (200+8)/2 = 104 dan (250+6)/2 = 128. Zoom adalah angka yang sangat besar, sehingga rating pengguna hilang.\n",
    "\n",
    "Tetapi menggunakan geometric mean:\n",
    "* akar(200*8) = 40\n",
    "* akar(250*6) = 38,7"
   ]
  },
  {
   "cell_type": "code",
   "execution_count": 34,
   "id": "f260eae5",
   "metadata": {},
   "outputs": [
    {
     "data": {
      "text/plain": [
       "4.677885674856041"
      ]
     },
     "execution_count": 34,
     "metadata": {},
     "output_type": "execute_result"
    }
   ],
   "source": [
    "# Geometric mean dengan python\n",
    "gmean = 1\n",
    "\n",
    "for item in x:\n",
    "    gmean *= item\n",
    "    \n",
    "gmean **=1 / len(x)\n",
    "gmean"
   ]
  },
  {
   "cell_type": "code",
   "execution_count": 35,
   "id": "7d8ec160",
   "metadata": {},
   "outputs": [
    {
     "data": {
      "text/plain": [
       "4.67788567485604"
      ]
     },
     "execution_count": 35,
     "metadata": {},
     "output_type": "execute_result"
    }
   ],
   "source": [
    "# Geometric mean dengan scipy\n",
    "scipy.stats.gmean(y)"
   ]
  },
  {
   "cell_type": "markdown",
   "id": "e571b253",
   "metadata": {},
   "source": [
    "# Median\n",
    "median hanya bergantung pada outlier sedikit atau tidak sama sekali.\n",
    "\n",
    "Kita dapat membandingkan mean dan median sebagai salah satu cara untuk mendeteksi outlier dan asimetri dalam data kita."
   ]
  },
  {
   "cell_type": "code",
   "execution_count": 36,
   "id": "bcfe9fa9",
   "metadata": {},
   "outputs": [
    {
     "data": {
      "text/plain": [
       "4"
      ]
     },
     "execution_count": 36,
     "metadata": {},
     "output_type": "execute_result"
    }
   ],
   "source": [
    "n = len(x)\n",
    "if n % 2:\n",
    "    median_ = sorted(x)[round(0.5*(n-1))]\n",
    "else: \n",
    "    x_ord, index = sorted(x), round(0.5 * n)\n",
    "    median_ = 0.5 * (x_ord[index-1] + x_ord[index])\n",
    "    \n",
    "median_"
   ]
  },
  {
   "cell_type": "markdown",
   "id": "2d1acc1e",
   "metadata": {},
   "source": [
    "Jika jumlah elemennya genap, maka ada dua nilai tengah, yaitu median_low() dan median_high()()"
   ]
  },
  {
   "cell_type": "code",
   "execution_count": 38,
   "id": "9341d720",
   "metadata": {},
   "outputs": [
    {
     "data": {
      "text/plain": [
       "[8.0, 1, 2.5, 4, 28]"
      ]
     },
     "execution_count": 38,
     "metadata": {},
     "output_type": "execute_result"
    }
   ],
   "source": [
    "x"
   ]
  },
  {
   "cell_type": "code",
   "execution_count": 39,
   "id": "0a5f5da7",
   "metadata": {},
   "outputs": [
    {
     "data": {
      "text/plain": [
       "4"
      ]
     },
     "execution_count": 39,
     "metadata": {},
     "output_type": "execute_result"
    }
   ],
   "source": [
    "statistics.median(x)"
   ]
  },
  {
   "cell_type": "code",
   "execution_count": 40,
   "id": "85de21f7",
   "metadata": {},
   "outputs": [
    {
     "data": {
      "text/plain": [
       "2.5"
      ]
     },
     "execution_count": 40,
     "metadata": {},
     "output_type": "execute_result"
    }
   ],
   "source": [
    "statistics.median_low(x[:-1])"
   ]
  },
  {
   "cell_type": "code",
   "execution_count": 41,
   "id": "5d805cc7",
   "metadata": {},
   "outputs": [
    {
     "data": {
      "text/plain": [
       "4"
      ]
     },
     "execution_count": 41,
     "metadata": {},
     "output_type": "execute_result"
    }
   ],
   "source": [
    "statistics.median_high(x[:-1])"
   ]
  },
  {
   "cell_type": "markdown",
   "id": "eb984679",
   "metadata": {},
   "source": [
    "median di statistic python tidak mengembalikan nilai nan ketika ada nilai nan di kumpulan data."
   ]
  },
  {
   "cell_type": "code",
   "execution_count": 42,
   "id": "a70af013",
   "metadata": {},
   "outputs": [
    {
     "data": {
      "text/plain": [
       "4.0"
      ]
     },
     "execution_count": 42,
     "metadata": {},
     "output_type": "execute_result"
    }
   ],
   "source": [
    "# Median dengan numpy\n",
    "np.median(y)"
   ]
  },
  {
   "cell_type": "code",
   "execution_count": 43,
   "id": "e76ea50d",
   "metadata": {},
   "outputs": [
    {
     "data": {
      "text/plain": [
       "3.25"
      ]
     },
     "execution_count": 43,
     "metadata": {},
     "output_type": "execute_result"
    }
   ],
   "source": [
    "np.median(y[:-1])"
   ]
  },
  {
   "cell_type": "markdown",
   "id": "886f81f3",
   "metadata": {},
   "source": [
    "# Mode"
   ]
  },
  {
   "cell_type": "code",
   "execution_count": 44,
   "id": "3707f23b",
   "metadata": {},
   "outputs": [],
   "source": [
    "# Mendapatkan nilai mode (modus) dengn python pure:\n",
    "u = [2, 3, 4, 1, 2]\n",
    "v = [12, 14, 13, 13, 21, 19]"
   ]
  },
  {
   "cell_type": "code",
   "execution_count": 45,
   "id": "7cc91bb3",
   "metadata": {},
   "outputs": [
    {
     "data": {
      "text/plain": [
       "2"
      ]
     },
     "execution_count": 45,
     "metadata": {},
     "output_type": "execute_result"
    }
   ],
   "source": [
    "mode_ = max((u.count(item), item) for item in set(u))[1]\n",
    "mode_"
   ]
  },
  {
   "cell_type": "code",
   "execution_count": 46,
   "id": "a191bf3c",
   "metadata": {},
   "outputs": [
    {
     "data": {
      "text/plain": [
       "2"
      ]
     },
     "execution_count": 46,
     "metadata": {},
     "output_type": "execute_result"
    }
   ],
   "source": [
    "# With statistics mode\n",
    "mode_ = statistics.mode(u)\n",
    "mode_"
   ]
  },
  {
   "cell_type": "code",
   "execution_count": 48,
   "id": "2c6c2a86",
   "metadata": {},
   "outputs": [
    {
     "name": "stderr",
     "output_type": "stream",
     "text": [
      "C:\\Users\\ACER\\AppData\\Local\\Temp\\ipykernel_10856\\1195423406.py:4: FutureWarning: Unlike other reduction functions (e.g. `skew`, `kurtosis`), the default behavior of `mode` typically preserves the axis it acts along. In SciPy 1.11.0, this behavior will change: the default value of `keepdims` will become False, the `axis` over which the statistic is taken will be eliminated, and the value None will no longer be accepted. Set `keepdims` to True or False to avoid this warning.\n",
      "  mode_ = scipy.stats.mode(u)\n"
     ]
    },
    {
     "data": {
      "text/plain": [
       "ModeResult(mode=array([2]), count=array([2]))"
      ]
     },
     "execution_count": 48,
     "metadata": {},
     "output_type": "execute_result"
    }
   ],
   "source": [
    "# dengan scipy\n",
    "u, v = np.array(u), np.array(v)\n",
    "\n",
    "mode_ = scipy.stats.mode(u)\n",
    "mode_"
   ]
  },
  {
   "cell_type": "code",
   "execution_count": 50,
   "id": "4ecce03e",
   "metadata": {},
   "outputs": [
    {
     "name": "stdout",
     "output_type": "stream",
     "text": [
      "[2]\n",
      "[2]\n"
     ]
    }
   ],
   "source": [
    "# Dot notation - mendapatkan array dan jumlah kemunculan\n",
    "print(mode_.mode)\n",
    "print(mode_.count)"
   ]
  },
  {
   "cell_type": "code",
   "execution_count": 58,
   "id": "35280eb5",
   "metadata": {},
   "outputs": [
    {
     "name": "stdout",
     "output_type": "stream",
     "text": [
      "0    12\n",
      "1    14\n",
      "2    13\n",
      "3    13\n",
      "4    21\n",
      "5    19\n",
      "dtype: int32\n"
     ]
    },
    {
     "data": {
      "text/plain": [
       "0    13\n",
       "dtype: int32"
      ]
     },
     "execution_count": 58,
     "metadata": {},
     "output_type": "execute_result"
    }
   ],
   "source": [
    "# Mode with pandas series\n",
    "print(v)\n",
    "v = pd.Series(v)\n",
    "\n",
    "# v.mode().dropna=False # => SUPAYA NILAI NAN TIDAK DIABAIKAN\n",
    "v.mode()"
   ]
  },
  {
   "cell_type": "markdown",
   "id": "db1e47a2",
   "metadata": {},
   "source": [
    "# Measure of Variability\n",
    "ukuran penyebaran titik data."
   ]
  },
  {
   "cell_type": "markdown",
   "id": "d128f965",
   "metadata": {},
   "source": [
    "## Variance \n",
    "menunjukan secara numerik seberapa jauh titik data dari mean."
   ]
  },
  {
   "cell_type": "code",
   "execution_count": 59,
   "id": "25e23b77",
   "metadata": {},
   "outputs": [
    {
     "data": {
      "text/plain": [
       "123.19999999999999"
      ]
     },
     "execution_count": 59,
     "metadata": {},
     "output_type": "execute_result"
    }
   ],
   "source": [
    "# Variance with python pure\n",
    "n = len(x)\n",
    "\n",
    "mean_ = sum(x)/n\n",
    "\n",
    "var_ = sum((item - mean_)** 2 for item in x) / (n-1)\n",
    "var_"
   ]
  },
  {
   "cell_type": "code",
   "execution_count": 62,
   "id": "d28226a0",
   "metadata": {},
   "outputs": [
    {
     "data": {
      "text/plain": [
       "123.2"
      ]
     },
     "execution_count": 62,
     "metadata": {},
     "output_type": "execute_result"
    }
   ],
   "source": [
    "# Variance with statistics\n",
    "var_ = statistics.variance(x)\n",
    "var_"
   ]
  },
  {
   "cell_type": "code",
   "execution_count": 63,
   "id": "ced13b37",
   "metadata": {},
   "outputs": [
    {
     "data": {
      "text/plain": [
       "123.19999999999999"
      ]
     },
     "execution_count": 63,
     "metadata": {},
     "output_type": "execute_result"
    }
   ],
   "source": [
    "# Variance with numpy\n",
    "var_ = np.var(y, ddof=1)\n",
    "var_"
   ]
  },
  {
   "cell_type": "markdown",
   "id": "bb9e883c",
   "metadata": {},
   "source": [
    "### About ddof = 1\n",
    "yaitu degre of freedom atau derajat kebebasan"
   ]
  },
  {
   "cell_type": "markdown",
   "id": "d358b1bd",
   "metadata": {},
   "source": [
    "# Standar deviation\n",
    "merupakan positive square root dari sample variance"
   ]
  },
  {
   "cell_type": "code",
   "execution_count": 66,
   "id": "37b654ac",
   "metadata": {},
   "outputs": [
    {
     "data": {
      "text/plain": [
       "11.099549540409285"
      ]
     },
     "execution_count": 66,
     "metadata": {},
     "output_type": "execute_result"
    }
   ],
   "source": [
    "# Standar deviation with python pure\n",
    "std_ = var_ ** 0.5\n",
    "std_"
   ]
  },
  {
   "cell_type": "code",
   "execution_count": 65,
   "id": "63c11d14",
   "metadata": {},
   "outputs": [
    {
     "data": {
      "text/plain": [
       "123.19999999999999"
      ]
     },
     "execution_count": 65,
     "metadata": {},
     "output_type": "execute_result"
    }
   ],
   "source": [
    "var_"
   ]
  },
  {
   "cell_type": "code",
   "execution_count": 68,
   "id": "81567f86",
   "metadata": {},
   "outputs": [
    {
     "data": {
      "text/plain": [
       "11.099549540409287"
      ]
     },
     "execution_count": 68,
     "metadata": {},
     "output_type": "execute_result"
    }
   ],
   "source": [
    "statistics.stdev(x)"
   ]
  },
  {
   "cell_type": "code",
   "execution_count": 69,
   "id": "ccdcba4b",
   "metadata": {},
   "outputs": [
    {
     "data": {
      "text/plain": [
       "[8.0, 1, 2.5, 4, 28]"
      ]
     },
     "execution_count": 69,
     "metadata": {},
     "output_type": "execute_result"
    }
   ],
   "source": [
    "x"
   ]
  },
  {
   "cell_type": "code",
   "execution_count": 70,
   "id": "d7815d20",
   "metadata": {},
   "outputs": [
    {
     "data": {
      "text/plain": [
       "11.099549540409285"
      ]
     },
     "execution_count": 70,
     "metadata": {},
     "output_type": "execute_result"
    }
   ],
   "source": [
    "# Standar deviation with numpy\n",
    "np.std(y, ddof=1)"
   ]
  },
  {
   "cell_type": "code",
   "execution_count": 72,
   "id": "56ac77af",
   "metadata": {},
   "outputs": [
    {
     "data": {
      "text/plain": [
       "11.099549540409285"
      ]
     },
     "execution_count": 72,
     "metadata": {},
     "output_type": "execute_result"
    }
   ],
   "source": [
    "y.std(ddof=1)"
   ]
  },
  {
   "cell_type": "code",
   "execution_count": 73,
   "id": "6813f0a5",
   "metadata": {},
   "outputs": [
    {
     "data": {
      "text/plain": [
       "0     8.0\n",
       "1     1.0\n",
       "2     2.5\n",
       "3     4.0\n",
       "4    28.0\n",
       "dtype: float64"
      ]
     },
     "execution_count": 73,
     "metadata": {},
     "output_type": "execute_result"
    }
   ],
   "source": [
    "# Standar deviation with pandas series\n",
    "z"
   ]
  },
  {
   "cell_type": "code",
   "execution_count": 74,
   "id": "bb2c5fc4",
   "metadata": {},
   "outputs": [
    {
     "data": {
      "text/plain": [
       "11.099549540409285"
      ]
     },
     "execution_count": 74,
     "metadata": {},
     "output_type": "execute_result"
    }
   ],
   "source": [
    "z.std(ddof=1)"
   ]
  },
  {
   "cell_type": "markdown",
   "id": "4633ec07",
   "metadata": {},
   "source": [
    "# Skewness\n",
    "sample skewness mengukur asimetri sample data.\n",
    "* Negative skewness menunjukkan bahwa ada ekor dominan sisi kiri\n",
    "* Positive skewness menunjukkan bahwa ada ekor dominan sisi kanan.\n",
    "* Jika skewness mendekati nol (misalnya antara -0.5 dan 0.5) maka dataset dianggap cukup simetris"
   ]
  },
  {
   "cell_type": "code",
   "execution_count": 77,
   "id": "2d306ba0",
   "metadata": {},
   "outputs": [],
   "source": [
    "# Skewness with python pure\n",
    "x = [8.0, 1, 2.5, 4, 28.0]\n",
    "\n",
    "n = len(x)\n",
    "\n",
    "mean_ = sum(x)/n\n",
    "var_ = sum((item - mean_)**2 for item in x) / (n-1)\n",
    "std_ = var_ ** 0.5\n",
    "\n",
    "skew_ = (sum((item - mean_)**3 for item in x) * n/((n-1) * (n-2) * std_**3))"
   ]
  },
  {
   "cell_type": "code",
   "execution_count": 78,
   "id": "cc9a6f60",
   "metadata": {},
   "outputs": [
    {
     "data": {
      "text/plain": [
       "1.9470432273905929"
      ]
     },
     "execution_count": 78,
     "metadata": {},
     "output_type": "execute_result"
    }
   ],
   "source": [
    "skew_"
   ]
  },
  {
   "cell_type": "code",
   "execution_count": 79,
   "id": "dd34e112",
   "metadata": {},
   "outputs": [
    {
     "data": {
      "text/plain": [
       "1.9470432273905927"
      ]
     },
     "execution_count": 79,
     "metadata": {},
     "output_type": "execute_result"
    }
   ],
   "source": [
    "# Skew with scipy\n",
    "y, y_with_nan = np.array(x), np.array(x_with_nan)\n",
    "scipy.stats.skew(y, bias=False)"
   ]
  },
  {
   "cell_type": "code",
   "execution_count": 80,
   "id": "b7ee9848",
   "metadata": {},
   "outputs": [
    {
     "data": {
      "text/plain": [
       "nan"
      ]
     },
     "execution_count": 80,
     "metadata": {},
     "output_type": "execute_result"
    }
   ],
   "source": [
    "scipy.stats.skew(y_with_nan, bias=False)"
   ]
  },
  {
   "cell_type": "code",
   "execution_count": 81,
   "id": "e430c7e2",
   "metadata": {},
   "outputs": [
    {
     "data": {
      "text/plain": [
       "1.9470432273905924"
      ]
     },
     "execution_count": 81,
     "metadata": {},
     "output_type": "execute_result"
    }
   ],
   "source": [
    "# Skew with pandas series\n",
    "z, z_with_nan = pd.Series(x), pd.Series(x_with_nan)\n",
    "z.skew()"
   ]
  },
  {
   "cell_type": "code",
   "execution_count": 82,
   "id": "4dee4b50",
   "metadata": {},
   "outputs": [
    {
     "data": {
      "text/plain": [
       "1.9470432273905924"
      ]
     },
     "execution_count": 82,
     "metadata": {},
     "output_type": "execute_result"
    }
   ],
   "source": [
    "z_with_nan.skew()"
   ]
  },
  {
   "cell_type": "markdown",
   "id": "2b8be54e",
   "metadata": {},
   "source": [
    "### Percentiles dll\n",
    "kita pelajari selanjutnya"
   ]
  },
  {
   "cell_type": "markdown",
   "id": "0001090c",
   "metadata": {},
   "source": [
    "# Measure of Correlation \n",
    "Memeriksa hubungan/korelasi antara elemen yang sesuai dari dua data/variabel\n",
    "\n",
    "* Positive correlation => large values of x correspond to larger values of y and vice versa\n",
    "* Negative Correlation\n",
    "* Weak or no correlation exists"
   ]
  },
  {
   "cell_type": "code",
   "execution_count": 83,
   "id": "6b1f5d67",
   "metadata": {},
   "outputs": [],
   "source": [
    "x = list(range(-10, 11))\n",
    "y = [0, 2, 2, 2, 3, 3, 4, 3, 5, 7, 4, 14, 10, 11, 16]\n",
    "x_, y_ = np.array(x), np.array(y)\n",
    "x__, y__ = pd.Series(x_), pd.Series(y_)"
   ]
  },
  {
   "cell_type": "code",
   "execution_count": null,
   "id": "d4c7c738",
   "metadata": {},
   "outputs": [],
   "source": []
  }
 ],
 "metadata": {
  "kernelspec": {
   "display_name": "Python 3 (ipykernel)",
   "language": "python",
   "name": "python3"
  },
  "language_info": {
   "codemirror_mode": {
    "name": "ipython",
    "version": 3
   },
   "file_extension": ".py",
   "mimetype": "text/x-python",
   "name": "python",
   "nbconvert_exporter": "python",
   "pygments_lexer": "ipython3",
   "version": "3.9.13"
  }
 },
 "nbformat": 4,
 "nbformat_minor": 5
}
