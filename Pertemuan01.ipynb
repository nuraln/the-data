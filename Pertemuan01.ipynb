{
 "cells": [
  {
   "cell_type": "markdown",
   "id": "67a5a561",
   "metadata": {},
   "source": [
    "# Percabangan dan Perulangan"
   ]
  },
  {
   "cell_type": "code",
   "execution_count": 14,
   "id": "8b6bbec0",
   "metadata": {},
   "outputs": [
    {
     "name": "stdout",
     "output_type": "stream",
     "text": [
      "ada nisa\n",
      "Nisa ada kok\n"
     ]
    }
   ],
   "source": [
    "## If Statement\n",
    "nisa = 1\n",
    "if nisa == 1:\n",
    "    print('ada nisa')\n",
    "    print('Nisa ada kok')"
   ]
  },
  {
   "cell_type": "code",
   "execution_count": 15,
   "id": "1e56f0c9",
   "metadata": {},
   "outputs": [
    {
     "name": "stdout",
     "output_type": "stream",
     "text": [
      "after conditional\n"
     ]
    }
   ],
   "source": [
    "# Cek apakah ada kata 'foo' di kolom ini\n",
    "if 'foo' in ['bar', 'baz', 'nis']:\n",
    "    print('Expression was true')\n",
    "    print('Executibf statement in suite')\n",
    "    print('...')\n",
    "    print('Done.')\n",
    "print('after conditional')"
   ]
  },
  {
   "cell_type": "code",
   "execution_count": 17,
   "id": "0a491a29",
   "metadata": {},
   "outputs": [
    {
     "name": "stdout",
     "output_type": "stream",
     "text": [
      "Outer condition is true\n",
      "Between inner conditions\n",
      "Inner condition 2\n",
      "End of outer condition\n",
      "After outer condition\n"
     ]
    }
   ],
   "source": [
    "if 'foo' in ['foo', 'bar', 'nis']:\n",
    "    print('Outer condition is true')\n",
    "    \n",
    "    if 10>20:\n",
    "        print('Inner condition 1') # fa;se\n",
    "    \n",
    "    print('Between inner conditions')\n",
    "    \n",
    "    if 10<20:\n",
    "        print('Inner condition 2')\n",
    "    \n",
    "    print('End of outer condition')\n",
    "print('After outer condition')"
   ]
  },
  {
   "cell_type": "code",
   "execution_count": 20,
   "id": "792ff486",
   "metadata": {},
   "outputs": [
    {
     "name": "stdout",
     "output_type": "stream",
     "text": [
      "Uang tidak cukup\n"
     ]
    }
   ],
   "source": [
    "# Elif\n",
    "harga_buku = 20000\n",
    "harga_majalah = 5000\n",
    "uang = 2000\n",
    "\n",
    "if uang > harga_buku:\n",
    "    print('Beli buku')\n",
    "elif uang > harga_majalah:\n",
    "    print(\"Beli majalah\")\n",
    "else:\n",
    "    print(\"Uang tidak cukup\")"
   ]
  },
  {
   "cell_type": "code",
   "execution_count": 21,
   "id": "2d1163fb",
   "metadata": {},
   "outputs": [
    {
     "name": "stdout",
     "output_type": "stream",
     "text": [
      "1\n",
      "2\n",
      "3\n"
     ]
    }
   ],
   "source": [
    "if 'f' in 'foo': print('1'); print('2'); print('3')"
   ]
  },
  {
   "cell_type": "code",
   "execution_count": 23,
   "id": "da51164b",
   "metadata": {},
   "outputs": [
    {
     "name": "stdout",
     "output_type": "stream",
     "text": [
      "qux\n",
      "nis\n"
     ]
    }
   ],
   "source": [
    "x = 2\n",
    "\n",
    "if x == 1: print('foo'); print('bar'); print('baz')\n",
    "elif x == 2: print('qux'); print('nis')\n",
    "else: print('corge'); print('grault')    "
   ]
  },
  {
   "cell_type": "markdown",
   "id": "87a2580a",
   "metadata": {},
   "source": [
    "### Conditional Expressions (Python's Ternary Operator)"
   ]
  },
  {
   "cell_type": "code",
   "execution_count": 24,
   "id": "d5c66b9e",
   "metadata": {},
   "outputs": [
    {
     "name": "stdout",
     "output_type": "stream",
     "text": [
      "Let's go to the beach\n"
     ]
    }
   ],
   "source": [
    "raining = False\n",
    "print(\"Let's go to the\", 'beach' if not raining else 'library')"
   ]
  },
  {
   "cell_type": "code",
   "execution_count": 26,
   "id": "e36355a1",
   "metadata": {},
   "outputs": [
    {
     "data": {
      "text/plain": [
       "'teen'"
      ]
     },
     "execution_count": 26,
     "metadata": {},
     "output_type": "execute_result"
    }
   ],
   "source": [
    "age = 12\n",
    "s = 'teen' if age < 21 else 'adult'\n",
    "s"
   ]
  },
  {
   "cell_type": "code",
   "execution_count": 28,
   "id": "b015f80b",
   "metadata": {},
   "outputs": [
    {
     "data": {
      "text/plain": [
       "'no'"
      ]
     },
     "execution_count": 28,
     "metadata": {},
     "output_type": "execute_result"
    }
   ],
   "source": [
    "'yes' if ('qux' in ['foo', 'bar', 'baz']) else 'no'"
   ]
  },
  {
   "cell_type": "code",
   "execution_count": 32,
   "id": "f4267068",
   "metadata": {},
   "outputs": [
    {
     "data": {
      "text/plain": [
       "11"
      ]
     },
     "execution_count": 32,
     "metadata": {},
     "output_type": "execute_result"
    }
   ],
   "source": [
    "# if else biasa\n",
    "a = 10\n",
    "b = 11\n",
    "if a > b:\n",
    "    m = a\n",
    "else:\n",
    "    m = b\n",
    "m"
   ]
  },
  {
   "cell_type": "code",
   "execution_count": 34,
   "id": "3b32184e",
   "metadata": {},
   "outputs": [
    {
     "data": {
      "text/plain": [
       "11"
      ]
     },
     "execution_count": 34,
     "metadata": {},
     "output_type": "execute_result"
    }
   ],
   "source": [
    "# penggunaan conditional expressions pada kode di atas\n",
    "c = a if a > b else b\n",
    "c"
   ]
  },
  {
   "cell_type": "markdown",
   "id": "7917ea58",
   "metadata": {},
   "source": [
    "### Python pass statement"
   ]
  },
  {
   "cell_type": "code",
   "execution_count": 37,
   "id": "abd213c4",
   "metadata": {},
   "outputs": [
    {
     "ename": "IndentationError",
     "evalue": "expected an indented block (36415859.py, line 3)",
     "output_type": "error",
     "traceback": [
      "\u001b[1;36m  File \u001b[1;32m\"C:\\Users\\ACER\\AppData\\Local\\Temp\\ipykernel_10664\\36415859.py\"\u001b[1;36m, line \u001b[1;32m3\u001b[0m\n\u001b[1;33m    print('foo')\u001b[0m\n\u001b[1;37m    ^\u001b[0m\n\u001b[1;31mIndentationError\u001b[0m\u001b[1;31m:\u001b[0m expected an indented block\n"
     ]
    }
   ],
   "source": [
    "# Kode ini erroe karena tidak ada statement setelah condition\n",
    "if True:\n",
    "print('foo')"
   ]
  },
  {
   "cell_type": "code",
   "execution_count": 38,
   "id": "7254a1d9",
   "metadata": {},
   "outputs": [
    {
     "name": "stdout",
     "output_type": "stream",
     "text": [
      "foo\n"
     ]
    }
   ],
   "source": [
    "# Kode ini tidak error karena mengisi statement yang kosong dengan pass\n",
    "if True:\n",
    "    pass\n",
    "print('foo')"
   ]
  },
  {
   "cell_type": "markdown",
   "id": "194ed84f",
   "metadata": {},
   "source": [
    "### Iteration\n",
    "Menjalankan kode yang sama berulang kali\n",
    "terdapat dua jenis iterasi, \n",
    "* Idenfinite iteration => jumlah perulangan tidak ditentukan secara explisit sebelumnya. Blok yang ditunjuk dijalankan berulang kali selama beberapa kondisi terpenuhi.\n",
    "* Definite iteration => Jumlah perulangan ditentukan secara explisit pada saat perulangan dimulai."
   ]
  },
  {
   "cell_type": "markdown",
   "id": "0523c266",
   "metadata": {},
   "source": [
    "#### While loops"
   ]
  },
  {
   "cell_type": "code",
   "execution_count": 39,
   "id": "e176cd88",
   "metadata": {},
   "outputs": [
    {
     "name": "stdout",
     "output_type": "stream",
     "text": [
      "3\n",
      "2\n",
      "1\n",
      "0\n"
     ]
    }
   ],
   "source": [
    "n = 4\n",
    "while n > 0:\n",
    "    n -= 1\n",
    "    print(n)"
   ]
  },
  {
   "cell_type": "code",
   "execution_count": 40,
   "id": "decf1c3a",
   "metadata": {},
   "outputs": [
    {
     "name": "stdout",
     "output_type": "stream",
     "text": [
      "1\n",
      "2\n",
      "3\n",
      "4\n",
      "5\n"
     ]
    }
   ],
   "source": [
    "i = 1\n",
    "while i < 6:\n",
    "    print(i)\n",
    "    i += 1"
   ]
  },
  {
   "cell_type": "markdown",
   "id": "fcfb3ed3",
   "metadata": {},
   "source": [
    "### While loops"
   ]
  },
  {
   "cell_type": "code",
   "execution_count": 42,
   "id": "a74d2e6b",
   "metadata": {},
   "outputs": [
    {
     "name": "stdout",
     "output_type": "stream",
     "text": [
      "4\n",
      "3\n",
      "Loop ended.\n"
     ]
    }
   ],
   "source": [
    "n = 5\n",
    "while n > 0: \n",
    "    n -= 1\n",
    "    if n == 2:\n",
    "        break \n",
    "    print(n)\n",
    "print('Loop ended.')"
   ]
  },
  {
   "cell_type": "code",
   "execution_count": 46,
   "id": "970ff627",
   "metadata": {},
   "outputs": [
    {
     "name": "stdout",
     "output_type": "stream",
     "text": [
      "grandmother\n"
     ]
    }
   ],
   "source": [
    "gender = 50\n",
    "gender = 'f'\n",
    "\n",
    "# Nested while Loops\n",
    "if age < 18:\n",
    "    if gender == 'M':\n",
    "        print('son')\n",
    "    elif age >= 18 and age < 65:\n",
    "        if gender == 'M':\n",
    "            print('father')\n",
    "        else:\n",
    "            print('mother')\n",
    "    else:\n",
    "        if gender == 'M':\n",
    "            print('grandfather')\n",
    "        else: \n",
    "            print('grandmother')"
   ]
  },
  {
   "cell_type": "code",
   "execution_count": 47,
   "id": "e14b9a23",
   "metadata": {},
   "outputs": [
    {
     "name": "stdout",
     "output_type": "stream",
     "text": [
      "foo\n",
      ". baz\n",
      ". qux\n",
      "bar\n",
      ". baz\n",
      ". qux\n"
     ]
    }
   ],
   "source": [
    "a = ['foo', 'bar']\n",
    "\n",
    "while len(a):\n",
    "    print(a.pop(0))\n",
    "    \n",
    "    b = ['baz', 'qux']\n",
    "    \n",
    "    while len(b):\n",
    "        print('.', b.pop(0))"
   ]
  },
  {
   "cell_type": "code",
   "execution_count": 56,
   "id": "fc670897",
   "metadata": {},
   "outputs": [
    {
     "name": "stdout",
     "output_type": "stream",
     "text": [
      "nisa\n",
      "sanah\n",
      "masyit\n"
     ]
    }
   ],
   "source": [
    "# Loop For\n",
    "nama = {'nisa':20, 'sanah':33, 'masyit':26}\n",
    "for i in nama:\n",
    "    print(i)"
   ]
  },
  {
   "cell_type": "code",
   "execution_count": 59,
   "id": "b6a841a9",
   "metadata": {},
   "outputs": [],
   "source": [
    "# for (i =1; i <= 10; i++):\n",
    "#     print(i)"
   ]
  },
  {
   "cell_type": "code",
   "execution_count": 60,
   "id": "d6955d2e",
   "metadata": {},
   "outputs": [
    {
     "name": "stdout",
     "output_type": "stream",
     "text": [
      "20\n",
      "33\n",
      "26\n"
     ]
    }
   ],
   "source": [
    "for v in nama.values():\n",
    "    print(v)"
   ]
  },
  {
   "cell_type": "code",
   "execution_count": 63,
   "id": "e72906db",
   "metadata": {},
   "outputs": [
    {
     "name": "stdout",
     "output_type": "stream",
     "text": [
      "nisa\n",
      "sanah\n",
      "masyit\n"
     ]
    }
   ],
   "source": [
    "for k in nama.keys():\n",
    "    print(k)"
   ]
  },
  {
   "cell_type": "code",
   "execution_count": 65,
   "id": "b212896e",
   "metadata": {},
   "outputs": [
    {
     "name": "stdout",
     "output_type": "stream",
     "text": [
      "0\n",
      "1\n",
      "2\n",
      "3\n",
      "4\n",
      "5\n",
      "6\n",
      "7\n",
      "8\n",
      "9\n"
     ]
    }
   ],
   "source": [
    "### Fungsi range() untuk iterasi bilangan bulat\n",
    "x = range(10)\n",
    "for n in x:\n",
    "    print(n)"
   ]
  },
  {
   "cell_type": "markdown",
   "id": "53147eb6",
   "metadata": {},
   "source": [
    "continue untuk melewati satu baris\n",
    "\n",
    "break untuk menghentikan perulangan"
   ]
  },
  {
   "cell_type": "code",
   "execution_count": 69,
   "id": "0855318c",
   "metadata": {},
   "outputs": [
    {
     "name": "stdout",
     "output_type": "stream",
     "text": [
      "Ketikkan karakter: nisa\n",
      "nisa\n",
      "Ketikkan karakter: niiii\n",
      "niiii\n",
      "Ketikkan karakter: saaaa\n",
      "saaaa\n",
      "Ketikkan karakter: stop\n",
      "stop\n"
     ]
    }
   ],
   "source": [
    "while True:\n",
    "    msg = input(\"Ketikkan karakter: \").lower()\n",
    "    print(msg)\n",
    "    if msg == \"stop\":\n",
    "        break"
   ]
  },
  {
   "cell_type": "markdown",
   "id": "43de0776",
   "metadata": {},
   "source": [
    "### \"Keep trying even when you feel enough!\""
   ]
  },
  {
   "cell_type": "code",
   "execution_count": null,
   "id": "c09cd11f",
   "metadata": {},
   "outputs": [],
   "source": []
  }
 ],
 "metadata": {
  "kernelspec": {
   "display_name": "Python 3 (ipykernel)",
   "language": "python",
   "name": "python3"
  },
  "language_info": {
   "codemirror_mode": {
    "name": "ipython",
    "version": 3
   },
   "file_extension": ".py",
   "mimetype": "text/x-python",
   "name": "python",
   "nbconvert_exporter": "python",
   "pygments_lexer": "ipython3",
   "version": "3.9.13"
  }
 },
 "nbformat": 4,
 "nbformat_minor": 5
}
