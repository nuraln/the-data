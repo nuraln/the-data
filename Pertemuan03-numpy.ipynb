{
 "cells": [
  {
   "cell_type": "markdown",
   "id": "9e07cf81",
   "metadata": {},
   "source": [
    "# Numpy\n",
    "> Numpy (Numerical Python) adalah standar universal untuk bekerja dengan data numerik menggunakan Python, dan merupakan inti dari ekosistem ilmiah Python dan PyData\n",
    "Numpy menyediakan multidimensional array, array pada numpy lebih cepat dan lengkap dibandingakn dengan list pada python\n",
    "\n",
    "Semua elemen dalam array numpy harus bersifat homogen."
   ]
  },
  {
   "cell_type": "code",
   "execution_count": 1,
   "id": "214f1565",
   "metadata": {},
   "outputs": [],
   "source": [
    "import numpy as np"
   ]
  },
  {
   "cell_type": "code",
   "execution_count": 5,
   "id": "6dc987d2",
   "metadata": {},
   "outputs": [
    {
     "name": "stdout",
     "output_type": "stream",
     "text": [
      "[1 2 3 4]\n",
      "\n",
      "1\n"
     ]
    }
   ],
   "source": [
    "# Menginisialisasi array numpy\n",
    "a = np.array([[1,2,3,4], [5,6,7,8], [9,10,11,12]])\n",
    "\n",
    "# memanggil berdasarkan index\n",
    "print(a[0])\n",
    "print()\n",
    "print(a[0][0])"
   ]
  },
  {
   "cell_type": "markdown",
   "id": "5c7ce4b2",
   "metadata": {},
   "source": [
    "## Attributes of an array\n",
    "Dalam numpy, dimensi disebut axes. Artinya jika kita memiliki array seperti ini:\n",
    "\n",
    "> [[0,2,0,4],\n",
    " [2,3,4,6]]\n",
    "\n",
    "Berarti array kita memiliki 2 axes. Axis pertama panjang 2 dan axis kedua memiliki panjang 3"
   ]
  },
  {
   "cell_type": "markdown",
   "id": "f1777fc8",
   "metadata": {},
   "source": [
    "### Contruction an array"
   ]
  },
  {
   "cell_type": "code",
   "execution_count": 7,
   "id": "46380cf3",
   "metadata": {},
   "outputs": [
    {
     "data": {
      "text/plain": [
       "array([1, 2, 3])"
      ]
     },
     "execution_count": 7,
     "metadata": {},
     "output_type": "execute_result"
    }
   ],
   "source": [
    "# Membuat array numpy\n",
    "n = np.array([1,2,3])\n",
    "n"
   ]
  },
  {
   "cell_type": "code",
   "execution_count": 8,
   "id": "f1f5fdc4",
   "metadata": {},
   "outputs": [
    {
     "data": {
      "text/plain": [
       "array([0., 0., 0., 0.])"
      ]
     },
     "execution_count": 8,
     "metadata": {},
     "output_type": "execute_result"
    }
   ],
   "source": [
    "np.zeros(4)"
   ]
  },
  {
   "cell_type": "code",
   "execution_count": 9,
   "id": "82dd2fdb",
   "metadata": {},
   "outputs": [
    {
     "data": {
      "text/plain": [
       "array([1., 1., 1., 1., 1., 1., 1., 1., 1., 1.])"
      ]
     },
     "execution_count": 9,
     "metadata": {},
     "output_type": "execute_result"
    }
   ],
   "source": [
    "np.ones(10)"
   ]
  },
  {
   "cell_type": "code",
   "execution_count": 10,
   "id": "be23ee27",
   "metadata": {},
   "outputs": [
    {
     "data": {
      "text/plain": [
       "array([6.23042070e-307, 4.67296746e-307, 1.69121096e-306, 2.33644129e-307,\n",
       "       1.42413555e-306, 1.78019082e-306, 6.23061762e-307])"
      ]
     },
     "execution_count": 10,
     "metadata": {},
     "output_type": "execute_result"
    }
   ],
   "source": [
    "np.empty(7)"
   ]
  },
  {
   "cell_type": "code",
   "execution_count": 11,
   "id": "c107bcb1",
   "metadata": {},
   "outputs": [
    {
     "data": {
      "text/plain": [
       "array([0, 1, 2, 3, 4, 5, 6, 7, 8])"
      ]
     },
     "execution_count": 11,
     "metadata": {},
     "output_type": "execute_result"
    }
   ],
   "source": [
    "np.arange(9)"
   ]
  },
  {
   "cell_type": "code",
   "execution_count": 12,
   "id": "740d5219",
   "metadata": {},
   "outputs": [
    {
     "data": {
      "text/plain": [
       "array([ 1,  2,  3,  4,  5,  6,  7,  8,  9, 10, 11, 12, 13, 14, 15, 16, 17,\n",
       "       18, 19])"
      ]
     },
     "execution_count": 12,
     "metadata": {},
     "output_type": "execute_result"
    }
   ],
   "source": [
    "np.arange(1,20,1) # (start, stop, step)"
   ]
  },
  {
   "cell_type": "code",
   "execution_count": 13,
   "id": "89341645",
   "metadata": {},
   "outputs": [
    {
     "data": {
      "text/plain": [
       "array([ 0,  1,  2,  3,  4,  5,  6,  7,  8,  9, 10, 11, 12, 13, 14, 15, 16,\n",
       "       17, 18, 19])"
      ]
     },
     "execution_count": 13,
     "metadata": {},
     "output_type": "execute_result"
    }
   ],
   "source": [
    "arr = np.arange(20)\n",
    "arr"
   ]
  },
  {
   "cell_type": "markdown",
   "id": "abc853fa",
   "metadata": {},
   "source": [
    "### Add, remove, and sort\n",
    "* np.append()\n",
    "* np.delete()\n",
    "* np.sort()"
   ]
  },
  {
   "cell_type": "code",
   "execution_count": 20,
   "id": "a29a6890",
   "metadata": {},
   "outputs": [
    {
     "data": {
      "text/plain": [
       "array([ 0,  1,  2,  3,  4,  5,  6,  7,  8,  9, 10, 11, 12, 13, 14, 15, 16,\n",
       "       17, 18, 19, 20, 21, 20, 21])"
      ]
     },
     "execution_count": 20,
     "metadata": {},
     "output_type": "execute_result"
    }
   ],
   "source": [
    "# Add to array\n",
    "arr = np.append(arr, [20,21])\n",
    "arr"
   ]
  },
  {
   "cell_type": "code",
   "execution_count": 22,
   "id": "daa5049c",
   "metadata": {},
   "outputs": [
    {
     "data": {
      "text/plain": [
       "array([ 0,  2,  3,  4,  5,  6,  7,  8,  9, 10, 11, 12, 13, 14, 15, 16, 17,\n",
       "       18, 19, 20, 21, 20, 21])"
      ]
     },
     "execution_count": 22,
     "metadata": {},
     "output_type": "execute_result"
    }
   ],
   "source": [
    "# Menghapus elemen di index 1\n",
    "arr = np.delete(arr, 1)\n",
    "arr"
   ]
  },
  {
   "cell_type": "code",
   "execution_count": 23,
   "id": "f81efff5",
   "metadata": {},
   "outputs": [
    {
     "data": {
      "text/plain": [
       "array([ 0,  2,  3,  4,  5,  6,  7,  8,  9, 10, 11, 12, 13, 14, 15, 16, 17,\n",
       "       18, 19, 20, 20, 21, 21])"
      ]
     },
     "execution_count": 23,
     "metadata": {},
     "output_type": "execute_result"
    }
   ],
   "source": [
    "# Mengurutkan angka dengan menaik\n",
    "arr = np.sort(arr)\n",
    "arr"
   ]
  },
  {
   "cell_type": "markdown",
   "id": "abf25f62",
   "metadata": {},
   "source": [
    "### Shape and Size\n",
    "* ndarray.ndim()\n",
    "* ndarray.size()\n",
    "* ndarray.shape()"
   ]
  },
  {
   "cell_type": "code",
   "execution_count": 37,
   "id": "e6d0458f",
   "metadata": {},
   "outputs": [],
   "source": [
    "multi = np.array([\n",
    "    [\n",
    "        [1,2,3,4,5],\n",
    "        [6,7,8,9,10]\n",
    "    ],\n",
    "    [\n",
    "        [11,12,13,14,15],\n",
    "        [16,17,18,19,20]\n",
    "    ],\n",
    "    [\n",
    "        [21,22,23,24,25],\n",
    "        [26,27,28,29,30]\n",
    "    ]\n",
    "])"
   ]
  },
  {
   "cell_type": "code",
   "execution_count": 33,
   "id": "6bf735c6",
   "metadata": {},
   "outputs": [
    {
     "data": {
      "text/plain": [
       "3"
      ]
     },
     "execution_count": 33,
     "metadata": {},
     "output_type": "execute_result"
    }
   ],
   "source": [
    "# Dimensi array\n",
    "multi.ndim"
   ]
  },
  {
   "cell_type": "code",
   "execution_count": 34,
   "id": "757bf7cb",
   "metadata": {},
   "outputs": [
    {
     "data": {
      "text/plain": [
       "30"
      ]
     },
     "execution_count": 34,
     "metadata": {},
     "output_type": "execute_result"
    }
   ],
   "source": [
    "# Total elemen array\n",
    "multi.size"
   ]
  },
  {
   "cell_type": "code",
   "execution_count": 35,
   "id": "a7c521dd",
   "metadata": {},
   "outputs": [
    {
     "data": {
      "text/plain": [
       "(3, 2, 5)"
      ]
     },
     "execution_count": 35,
     "metadata": {},
     "output_type": "execute_result"
    }
   ],
   "source": [
    "# shape array\n",
    "multi.shape"
   ]
  },
  {
   "cell_type": "markdown",
   "id": "ea7a601c",
   "metadata": {},
   "source": [
    "### Reshape\n",
    "* np.reshape() => memberikan bentuk baru pada array tanpa merubah datanya."
   ]
  },
  {
   "cell_type": "code",
   "execution_count": 50,
   "id": "84730421",
   "metadata": {},
   "outputs": [
    {
     "data": {
      "text/plain": [
       "32"
      ]
     },
     "execution_count": 50,
     "metadata": {},
     "output_type": "execute_result"
    }
   ],
   "source": [
    "arr.size"
   ]
  },
  {
   "cell_type": "code",
   "execution_count": 49,
   "id": "619974df",
   "metadata": {},
   "outputs": [
    {
     "data": {
      "text/plain": [
       "array([[ 0,  2,  3,  4,  5,  6,  7,  8],\n",
       "       [ 9, 10, 11, 12, 13, 14, 15, 16],\n",
       "       [17, 18, 19, 20, 20, 21, 21, 22],\n",
       "       [22, 22, 22, 23, 22, 23, 23, 23]])"
      ]
     },
     "execution_count": 49,
     "metadata": {},
     "output_type": "execute_result"
    }
   ],
   "source": [
    "# kita bisa merubah shape array tersebut, sbg contoh kita bisa merubah \n",
    "# menjadi bentuk 4 baris dan 8 kolom\n",
    "arr_multi = arr.reshape(4,8)\n",
    "arr_multi"
   ]
  },
  {
   "cell_type": "code",
   "execution_count": 51,
   "id": "8a509049",
   "metadata": {},
   "outputs": [
    {
     "data": {
      "text/plain": [
       "array([[[ 0,  2],\n",
       "        [ 3,  4],\n",
       "        [ 5,  6],\n",
       "        [ 7,  8]],\n",
       "\n",
       "       [[ 9, 10],\n",
       "        [11, 12],\n",
       "        [13, 14],\n",
       "        [15, 16]],\n",
       "\n",
       "       [[17, 18],\n",
       "        [19, 20],\n",
       "        [20, 21],\n",
       "        [21, 22]],\n",
       "\n",
       "       [[22, 22],\n",
       "        [22, 23],\n",
       "        [22, 23],\n",
       "        [23, 23]]])"
      ]
     },
     "execution_count": 51,
     "metadata": {},
     "output_type": "execute_result"
    }
   ],
   "source": [
    "arr_multies = arr.reshape(4,4,2)\n",
    "arr_multies"
   ]
  },
  {
   "cell_type": "code",
   "execution_count": 52,
   "id": "64f36a7c",
   "metadata": {},
   "outputs": [],
   "source": [
    "# atau menggunakan format ini \n",
    "# numpy.reshape(nama_array, bentuk_baru, order)"
   ]
  },
  {
   "cell_type": "markdown",
   "id": "bdeebd23",
   "metadata": {},
   "source": [
    "### Convert 1D to 2D\n",
    "* np.newaxis\n",
    "> Untuk meningkatkan dimensi array sebesar 1 dimensi bila digunakan sekali. Artinya array 1D akan menjadi array 2D, array 2D akan menjadi array 3D, dst.\n",
    "* np.expand_dims"
   ]
  },
  {
   "cell_type": "code",
   "execution_count": 57,
   "id": "4ffc85df",
   "metadata": {},
   "outputs": [
    {
     "name": "stdout",
     "output_type": "stream",
     "text": [
      "[0 1 2 3 4 5]\n"
     ]
    },
    {
     "data": {
      "text/plain": [
       "(6,)"
      ]
     },
     "execution_count": 57,
     "metadata": {},
     "output_type": "execute_result"
    }
   ],
   "source": [
    "con = np.arange(6)\n",
    "print(con)\n",
    "con.shape"
   ]
  },
  {
   "cell_type": "code",
   "execution_count": 58,
   "id": "504be317",
   "metadata": {},
   "outputs": [
    {
     "name": "stdout",
     "output_type": "stream",
     "text": [
      "[[0 1 2 3 4 5]]\n"
     ]
    },
    {
     "data": {
      "text/plain": [
       "(1, 6)"
      ]
     },
     "execution_count": 58,
     "metadata": {},
     "output_type": "execute_result"
    }
   ],
   "source": [
    "con2 = con[np.newaxis]\n",
    "print(con2)\n",
    "con2.shape"
   ]
  },
  {
   "cell_type": "code",
   "execution_count": 62,
   "id": "96b3f45b",
   "metadata": {},
   "outputs": [
    {
     "name": "stdout",
     "output_type": "stream",
     "text": [
      "(1, 6)\n",
      "[[0 1 2 3 4 5]]\n"
     ]
    }
   ],
   "source": [
    "con3 = con[np.newaxis, :]\n",
    "print(con3.shape)\n",
    "print(con3)"
   ]
  },
  {
   "cell_type": "code",
   "execution_count": 63,
   "id": "1831b818",
   "metadata": {},
   "outputs": [
    {
     "name": "stdout",
     "output_type": "stream",
     "text": [
      "(6, 1)\n",
      "[[0]\n",
      " [1]\n",
      " [2]\n",
      " [3]\n",
      " [4]\n",
      " [5]]\n"
     ]
    }
   ],
   "source": [
    "con3 = con[:, np.newaxis]\n",
    "print(con3.shape)\n",
    "print(con3)"
   ]
  },
  {
   "cell_type": "code",
   "execution_count": 69,
   "id": "b5488c7b",
   "metadata": {},
   "outputs": [
    {
     "name": "stdout",
     "output_type": "stream",
     "text": [
      "[[[[[ 1  2  3  4]]\n",
      "\n",
      "   [[ 5  6  7  8]]\n",
      "\n",
      "   [[ 9 10 11 12]]]]]\n"
     ]
    }
   ],
   "source": [
    "# Add axis to index position 0:\n",
    "b = np.expand_dims(b, axis=0)\n",
    "b.shape\n",
    "print(b)"
   ]
  },
  {
   "cell_type": "code",
   "execution_count": 70,
   "id": "be13875a",
   "metadata": {},
   "outputs": [
    {
     "name": "stdout",
     "output_type": "stream",
     "text": [
      "[[[ 1  2  3  4]]\n",
      "\n",
      " [[ 5  6  7  8]]\n",
      "\n",
      " [[ 9 10 11 12]]]\n"
     ]
    }
   ],
   "source": [
    "# Add axis to index position 1:\n",
    "c = np.expand_dims(a, axis=1)\n",
    "c.shape\n",
    "print(c)"
   ]
  },
  {
   "cell_type": "code",
   "execution_count": 68,
   "id": "aa608700",
   "metadata": {},
   "outputs": [
    {
     "data": {
      "text/plain": [
       "array([[ 1,  2,  3,  4],\n",
       "       [ 5,  6,  7,  8],\n",
       "       [ 9, 10, 11, 12]])"
      ]
     },
     "execution_count": 68,
     "metadata": {},
     "output_type": "execute_result"
    }
   ],
   "source": [
    "a"
   ]
  },
  {
   "cell_type": "markdown",
   "id": "7ab6e4ce",
   "metadata": {},
   "source": [
    "### Indexing and Slicing"
   ]
  },
  {
   "cell_type": "code",
   "execution_count": 73,
   "id": "b44a02ad",
   "metadata": {},
   "outputs": [
    {
     "data": {
      "text/plain": [
       "array([0, 1, 2])"
      ]
     },
     "execution_count": 73,
     "metadata": {},
     "output_type": "execute_result"
    }
   ],
   "source": [
    "data = np.arange(3)\n",
    "data"
   ]
  },
  {
   "cell_type": "code",
   "execution_count": 74,
   "id": "4d38a369",
   "metadata": {},
   "outputs": [
    {
     "data": {
      "text/plain": [
       "0"
      ]
     },
     "execution_count": 74,
     "metadata": {},
     "output_type": "execute_result"
    }
   ],
   "source": [
    "data[0]"
   ]
  },
  {
   "cell_type": "code",
   "execution_count": 75,
   "id": "99466cef",
   "metadata": {},
   "outputs": [
    {
     "data": {
      "text/plain": [
       "array([0, 1])"
      ]
     },
     "execution_count": 75,
     "metadata": {},
     "output_type": "execute_result"
    }
   ],
   "source": [
    "data[0:2]"
   ]
  },
  {
   "cell_type": "code",
   "execution_count": 76,
   "id": "8d05e928",
   "metadata": {},
   "outputs": [
    {
     "data": {
      "text/plain": [
       "array([1, 2])"
      ]
     },
     "execution_count": 76,
     "metadata": {},
     "output_type": "execute_result"
    }
   ],
   "source": [
    "data[-2:]"
   ]
  },
  {
   "cell_type": "code",
   "execution_count": 77,
   "id": "d2bbebe5",
   "metadata": {},
   "outputs": [
    {
     "data": {
      "text/plain": [
       "array([[ 1,  2,  3,  4],\n",
       "       [ 5,  6,  7,  8],\n",
       "       [ 9, 10, 11, 12]])"
      ]
     },
     "execution_count": 77,
     "metadata": {},
     "output_type": "execute_result"
    }
   ],
   "source": [
    "a"
   ]
  },
  {
   "cell_type": "code",
   "execution_count": 79,
   "id": "a557326b",
   "metadata": {},
   "outputs": [
    {
     "data": {
      "text/plain": [
       "array([ 5,  6,  7,  8,  9, 10, 11, 12])"
      ]
     },
     "execution_count": 79,
     "metadata": {},
     "output_type": "execute_result"
    }
   ],
   "source": [
    "# five_up\n",
    "a[a>=5]"
   ]
  },
  {
   "cell_type": "code",
   "execution_count": 80,
   "id": "e0cf472e",
   "metadata": {},
   "outputs": [
    {
     "data": {
      "text/plain": [
       "array([ 2,  4,  6,  8, 10, 12])"
      ]
     },
     "execution_count": 80,
     "metadata": {},
     "output_type": "execute_result"
    }
   ],
   "source": [
    "# Divisible by 2\n",
    "a[a%2==0]"
   ]
  },
  {
   "cell_type": "code",
   "execution_count": 81,
   "id": "e4420f66",
   "metadata": {},
   "outputs": [
    {
     "data": {
      "text/plain": [
       "array([ 3,  4,  5,  6,  7,  8,  9, 10])"
      ]
     },
     "execution_count": 81,
     "metadata": {},
     "output_type": "execute_result"
    }
   ],
   "source": [
    "# Between 2 condition\n",
    "a[(a>2) & (a<11)]"
   ]
  },
  {
   "cell_type": "markdown",
   "id": "7373e197",
   "metadata": {},
   "source": [
    "### Creating Array from Existing Data\n",
    "Slicing indexing\n",
    "* np.vstack()\n",
    "* np.hstack()\n",
    "* np.hsplit()\n",
    "* .view()\n",
    "* .copy()"
   ]
  },
  {
   "cell_type": "code",
   "execution_count": 84,
   "id": "82b107d0",
   "metadata": {},
   "outputs": [
    {
     "data": {
      "text/plain": [
       "array([0, 1, 2, 3, 4, 5, 6, 7, 8, 9])"
      ]
     },
     "execution_count": 84,
     "metadata": {},
     "output_type": "execute_result"
    }
   ],
   "source": [
    "new = np.arange(10)\n",
    "new"
   ]
  },
  {
   "cell_type": "code",
   "execution_count": 86,
   "id": "c2f14325",
   "metadata": {},
   "outputs": [
    {
     "data": {
      "text/plain": [
       "array([3, 4, 5, 6, 7])"
      ]
     },
     "execution_count": 86,
     "metadata": {},
     "output_type": "execute_result"
    }
   ],
   "source": [
    "new1 = new[3:8]\n",
    "new1"
   ]
  },
  {
   "cell_type": "code",
   "execution_count": 87,
   "id": "a2d84f2b",
   "metadata": {},
   "outputs": [
    {
     "data": {
      "text/plain": [
       "array([[1, 1],\n",
       "       [2, 2],\n",
       "       [3, 3],\n",
       "       [4, 4]])"
      ]
     },
     "execution_count": 87,
     "metadata": {},
     "output_type": "execute_result"
    }
   ],
   "source": [
    "a_1 = np.array([[1, 1],\n",
    "                [2, 2]])\n",
    "a_2 = np.array([[3, 3],\n",
    "                [4, 4]])"
   ]
  },
  {
   "cell_type": "code",
   "execution_count": 88,
   "id": "9cf044de",
   "metadata": {},
   "outputs": [
    {
     "data": {
      "text/plain": [
       "array([[1, 1],\n",
       "       [2, 2],\n",
       "       [3, 3],\n",
       "       [4, 4]])"
      ]
     },
     "execution_count": 88,
     "metadata": {},
     "output_type": "execute_result"
    }
   ],
   "source": [
    "# Menumpuk 2 array secara vertikal\n",
    "np.vstack((a_1, a_2))"
   ]
  },
  {
   "cell_type": "code",
   "execution_count": 89,
   "id": "98a9f25e",
   "metadata": {},
   "outputs": [
    {
     "data": {
      "text/plain": [
       "array([[1, 1, 3, 3],\n",
       "       [2, 2, 4, 4]])"
      ]
     },
     "execution_count": 89,
     "metadata": {},
     "output_type": "execute_result"
    }
   ],
   "source": [
    "# Menumpuk 2 array secara Horizontal\n",
    "np.hstack((a_1, a_2))"
   ]
  },
  {
   "cell_type": "code",
   "execution_count": 95,
   "id": "0e65894b",
   "metadata": {},
   "outputs": [
    {
     "name": "stdout",
     "output_type": "stream",
     "text": [
      "[[ 1  2  3  4  5  6  7  8 11]\n",
      " [ 9 10 11 12 13 14 15 16 21]]\n"
     ]
    }
   ],
   "source": [
    "# Membagi array\n",
    "arrsplit = np.array([[1,2,3,4,5,6,7,8,11],\n",
    "                      [9,10,11,12,13,14,15,16,21]])\n",
    "print(arrsplit)"
   ]
  },
  {
   "cell_type": "code",
   "execution_count": 96,
   "id": "8c05c8d5",
   "metadata": {},
   "outputs": [
    {
     "data": {
      "text/plain": [
       "[array([[ 1,  2,  3],\n",
       "        [ 9, 10, 11]]),\n",
       " array([[ 4,  5,  6],\n",
       "        [12, 13, 14]]),\n",
       " array([[ 7,  8, 11],\n",
       "        [15, 16, 21]])]"
      ]
     },
     "execution_count": 96,
     "metadata": {},
     "output_type": "execute_result"
    }
   ],
   "source": [
    "np.hsplit(arrsplit, 3)"
   ]
  },
  {
   "cell_type": "code",
   "execution_count": 98,
   "id": "f79e12bc",
   "metadata": {},
   "outputs": [
    {
     "data": {
      "text/plain": [
       "array([[ 1,  2,  3,  4,  5,  6,  7,  8, 11],\n",
       "       [ 9, 10, 11, 12, 13, 14, 15, 16, 21]])"
      ]
     },
     "execution_count": 98,
     "metadata": {},
     "output_type": "execute_result"
    }
   ],
   "source": [
    "# Create new array that looks at the same data\n",
    "b = arrsplit.view()\n",
    "b"
   ]
  },
  {
   "cell_type": "code",
   "execution_count": 99,
   "id": "818d2db0",
   "metadata": {},
   "outputs": [
    {
     "data": {
      "text/plain": [
       "array([[ 1,  2,  3,  4,  5,  6,  7,  8, 11],\n",
       "       [ 9, 10, 11, 12, 13, 14, 15, 16, 21]])"
      ]
     },
     "execution_count": 99,
     "metadata": {},
     "output_type": "execute_result"
    }
   ],
   "source": [
    "# Make a copy\n",
    "c = arrsplit.copy()\n",
    "c"
   ]
  },
  {
   "cell_type": "markdown",
   "id": "cc115d86",
   "metadata": {},
   "source": [
    "### Basic Array Operation\n",
    "* addition\n",
    "* substraction\n",
    "* multiplication\n",
    "* division \n",
    "* etc"
   ]
  },
  {
   "cell_type": "code",
   "execution_count": 3,
   "id": "ce12ec60",
   "metadata": {},
   "outputs": [
    {
     "data": {
      "text/plain": [
       "array([ 0,  1,  2,  3,  4,  5,  6,  7,  8,  9, 10, 11])"
      ]
     },
     "execution_count": 3,
     "metadata": {},
     "output_type": "execute_result"
    }
   ],
   "source": [
    "a = np.arange(12)\n",
    "a"
   ]
  },
  {
   "cell_type": "code",
   "execution_count": 5,
   "id": "e6b51244",
   "metadata": {},
   "outputs": [
    {
     "data": {
      "text/plain": [
       "66"
      ]
     },
     "execution_count": 5,
     "metadata": {},
     "output_type": "execute_result"
    }
   ],
   "source": [
    "a.sum()"
   ]
  },
  {
   "cell_type": "code",
   "execution_count": 6,
   "id": "e860e47c",
   "metadata": {},
   "outputs": [
    {
     "data": {
      "text/plain": [
       "array([[1, 1],\n",
       "       [2, 2]])"
      ]
     },
     "execution_count": 6,
     "metadata": {},
     "output_type": "execute_result"
    }
   ],
   "source": [
    "b = np.array([[1,1], [2,2]])\n",
    "b"
   ]
  },
  {
   "cell_type": "code",
   "execution_count": 11,
   "id": "af1df9c1",
   "metadata": {},
   "outputs": [
    {
     "data": {
      "text/plain": [
       "array([3, 3])"
      ]
     },
     "execution_count": 11,
     "metadata": {},
     "output_type": "execute_result"
    }
   ],
   "source": [
    "# Menjumlahkan baris\n",
    "c = b.sum(axis=0)\n",
    "c"
   ]
  },
  {
   "cell_type": "code",
   "execution_count": 12,
   "id": "f261c5c4",
   "metadata": {},
   "outputs": [
    {
     "data": {
      "text/plain": [
       "array([2, 4])"
      ]
     },
     "execution_count": 12,
     "metadata": {},
     "output_type": "execute_result"
    }
   ],
   "source": [
    "# Menjumlahkan kolom\n",
    "d = b.sum(axis=1)\n",
    "d"
   ]
  },
  {
   "cell_type": "code",
   "execution_count": 13,
   "id": "68130742",
   "metadata": {},
   "outputs": [
    {
     "data": {
      "text/plain": [
       "array([5, 7])"
      ]
     },
     "execution_count": 13,
     "metadata": {},
     "output_type": "execute_result"
    }
   ],
   "source": [
    "c + d"
   ]
  },
  {
   "cell_type": "code",
   "execution_count": 14,
   "id": "33521819",
   "metadata": {},
   "outputs": [
    {
     "data": {
      "text/plain": [
       "array([ 6, 12])"
      ]
     },
     "execution_count": 14,
     "metadata": {},
     "output_type": "execute_result"
    }
   ],
   "source": [
    "c * d"
   ]
  },
  {
   "cell_type": "code",
   "execution_count": 15,
   "id": "ea76a8fd",
   "metadata": {},
   "outputs": [
    {
     "data": {
      "text/plain": [
       "array([1.5 , 0.75])"
      ]
     },
     "execution_count": 15,
     "metadata": {},
     "output_type": "execute_result"
    }
   ],
   "source": [
    "c / d"
   ]
  },
  {
   "cell_type": "markdown",
   "id": "e7a201e2",
   "metadata": {},
   "source": [
    "### Broadcasting\n",
    "Operasi antara suatu array dengan bilangan.\n",
    "\n",
    "Broadcasting adalah mekanisme yang memungkinkan array melakukan operasi pada array dengan bentuk yang berbeda. Dimensinya harus kompatibel."
   ]
  },
  {
   "cell_type": "code",
   "execution_count": 16,
   "id": "3db6a61c",
   "metadata": {},
   "outputs": [
    {
     "data": {
      "text/plain": [
       "array([6, 6])"
      ]
     },
     "execution_count": 16,
     "metadata": {},
     "output_type": "execute_result"
    }
   ],
   "source": [
    "c * 2"
   ]
  },
  {
   "cell_type": "markdown",
   "id": "4a6d5f49",
   "metadata": {},
   "source": [
    "### More array Operation\n",
    "* max()\n",
    "* min()\n",
    "* sum()\n",
    "* mean\n",
    "* product\n",
    "* standar deviation\n",
    "* etc"
   ]
  },
  {
   "cell_type": "code",
   "execution_count": 17,
   "id": "29df7ba6",
   "metadata": {},
   "outputs": [
    {
     "data": {
      "text/plain": [
       "6"
      ]
     },
     "execution_count": 17,
     "metadata": {},
     "output_type": "execute_result"
    }
   ],
   "source": [
    "c.sum()"
   ]
  },
  {
   "cell_type": "code",
   "execution_count": 18,
   "id": "4fd0df0a",
   "metadata": {},
   "outputs": [
    {
     "data": {
      "text/plain": [
       "0"
      ]
     },
     "execution_count": 18,
     "metadata": {},
     "output_type": "execute_result"
    }
   ],
   "source": [
    "a.min()"
   ]
  },
  {
   "cell_type": "code",
   "execution_count": 19,
   "id": "a6229379",
   "metadata": {},
   "outputs": [
    {
     "data": {
      "text/plain": [
       "0"
      ]
     },
     "execution_count": 19,
     "metadata": {},
     "output_type": "execute_result"
    }
   ],
   "source": [
    "a.min(axis=0)"
   ]
  },
  {
   "cell_type": "code",
   "execution_count": 20,
   "id": "9a50c462",
   "metadata": {},
   "outputs": [
    {
     "data": {
      "text/plain": [
       "array([1, 2])"
      ]
     },
     "execution_count": 20,
     "metadata": {},
     "output_type": "execute_result"
    }
   ],
   "source": [
    "b.min(axis=1)"
   ]
  },
  {
   "cell_type": "code",
   "execution_count": 21,
   "id": "927b0664",
   "metadata": {},
   "outputs": [
    {
     "data": {
      "text/plain": [
       "3.452052529534663"
      ]
     },
     "execution_count": 21,
     "metadata": {},
     "output_type": "execute_result"
    }
   ],
   "source": [
    "a.std()"
   ]
  },
  {
   "cell_type": "code",
   "execution_count": 22,
   "id": "6cdfb124",
   "metadata": {},
   "outputs": [
    {
     "data": {
      "text/plain": [
       "0.5"
      ]
     },
     "execution_count": 22,
     "metadata": {},
     "output_type": "execute_result"
    }
   ],
   "source": [
    "b.std()"
   ]
  },
  {
   "cell_type": "markdown",
   "id": "57057de1",
   "metadata": {},
   "source": [
    "### Matrices\n"
   ]
  },
  {
   "cell_type": "code",
   "execution_count": 23,
   "id": "6b00fbc1",
   "metadata": {},
   "outputs": [
    {
     "data": {
      "text/plain": [
       "array([[1., 1.],\n",
       "       [1., 1.],\n",
       "       [1., 1.]])"
      ]
     },
     "execution_count": 23,
     "metadata": {},
     "output_type": "execute_result"
    }
   ],
   "source": [
    "np.ones((3,2))"
   ]
  },
  {
   "cell_type": "code",
   "execution_count": 25,
   "id": "8f3ed024",
   "metadata": {},
   "outputs": [
    {
     "data": {
      "text/plain": [
       "array([[0.32094085, 0.86096312],\n",
       "       [0.49191345, 0.87775347],\n",
       "       [0.11173258, 0.55200005]])"
      ]
     },
     "execution_count": 25,
     "metadata": {},
     "output_type": "execute_result"
    }
   ],
   "source": [
    "np.random.random((3,2))"
   ]
  },
  {
   "cell_type": "code",
   "execution_count": 26,
   "id": "37c28c23",
   "metadata": {},
   "outputs": [
    {
     "data": {
      "text/plain": [
       "array([[3., 3.],\n",
       "       [3., 3.]])"
      ]
     },
     "execution_count": 26,
     "metadata": {},
     "output_type": "execute_result"
    }
   ],
   "source": [
    "# Perkalian matriks (dot ptoduct)\n",
    "a = np.ones((2,3))\n",
    "b = np.ones((3,2))\n",
    "np.dot(a,b)"
   ]
  },
  {
   "cell_type": "code",
   "execution_count": 27,
   "id": "5bf7fd2d",
   "metadata": {},
   "outputs": [
    {
     "name": "stdout",
     "output_type": "stream",
     "text": [
      "[2 4]\n"
     ]
    }
   ],
   "source": [
    "data = np.array([[1,2], [3,4],[5,6]])\n",
    "\n",
    "print(data[0:2,1])"
   ]
  },
  {
   "cell_type": "code",
   "execution_count": 28,
   "id": "33f7af9f",
   "metadata": {},
   "outputs": [
    {
     "data": {
      "text/plain": [
       "array([[1, 2],\n",
       "       [3, 4],\n",
       "       [5, 6]])"
      ]
     },
     "execution_count": 28,
     "metadata": {},
     "output_type": "execute_result"
    }
   ],
   "source": [
    "data[0:3]"
   ]
  },
  {
   "cell_type": "markdown",
   "id": "0e21d1ff",
   "metadata": {},
   "source": [
    "### Transposing and Reshaping\n"
   ]
  },
  {
   "cell_type": "code",
   "execution_count": 29,
   "id": "2073a073",
   "metadata": {},
   "outputs": [
    {
     "data": {
      "text/plain": [
       "array([[1, 2],\n",
       "       [3, 4],\n",
       "       [5, 6]])"
      ]
     },
     "execution_count": 29,
     "metadata": {},
     "output_type": "execute_result"
    }
   ],
   "source": [
    "data"
   ]
  },
  {
   "cell_type": "code",
   "execution_count": 30,
   "id": "2ca9e698",
   "metadata": {},
   "outputs": [
    {
     "data": {
      "text/plain": [
       "array([[1, 3, 5],\n",
       "       [2, 4, 6]])"
      ]
     },
     "execution_count": 30,
     "metadata": {},
     "output_type": "execute_result"
    }
   ],
   "source": [
    "data.T"
   ]
  },
  {
   "cell_type": "code",
   "execution_count": 31,
   "id": "87aeff4f",
   "metadata": {},
   "outputs": [
    {
     "data": {
      "text/plain": [
       "array([[1, 2],\n",
       "       [3, 4],\n",
       "       [5, 6]])"
      ]
     },
     "execution_count": 31,
     "metadata": {},
     "output_type": "execute_result"
    }
   ],
   "source": [
    "data.reshape(3,2)"
   ]
  },
  {
   "cell_type": "code",
   "execution_count": 33,
   "id": "d2af012a",
   "metadata": {},
   "outputs": [
    {
     "data": {
      "text/plain": [
       "array([[0, 1, 2],\n",
       "       [3, 4, 5]])"
      ]
     },
     "execution_count": 33,
     "metadata": {},
     "output_type": "execute_result"
    }
   ],
   "source": [
    "arr = np.arange(6).reshape(2,3)\n",
    "arr"
   ]
  },
  {
   "cell_type": "code",
   "execution_count": 37,
   "id": "2d0cd629",
   "metadata": {},
   "outputs": [
    {
     "data": {
      "text/plain": [
       "array([[[6.64195118e-02, 1.08847993e-01, 1.00138627e-01, 9.72349885e-02],\n",
       "        [7.23846658e-01, 3.86253729e-01, 9.93433584e-01, 6.79519663e-01],\n",
       "        [3.53334290e-01, 3.44715636e-04, 3.73367258e-01, 1.84870235e-01]],\n",
       "\n",
       "       [[3.54497169e-01, 2.87123934e-01, 1.44063350e-01, 2.78772722e-01],\n",
       "        [4.72952770e-01, 4.10320016e-01, 3.99781173e-01, 5.71644639e-01],\n",
       "        [2.32829607e-01, 7.47127136e-01, 5.99021686e-01, 8.92497759e-01]],\n",
       "\n",
       "       [[6.72793581e-01, 6.05893131e-01, 2.47055094e-01, 7.98704070e-01],\n",
       "        [9.32026249e-01, 3.48160982e-01, 3.78926594e-02, 2.29214651e-01],\n",
       "        [9.72873210e-01, 5.62909850e-01, 9.67062154e-01, 9.08339273e-01]],\n",
       "\n",
       "       [[1.67185239e-01, 7.31091651e-01, 3.16990128e-01, 8.29775220e-01],\n",
       "        [8.81601117e-01, 6.22642764e-01, 4.08011000e-01, 3.87507802e-01],\n",
       "        [3.64062182e-01, 1.54181119e-01, 8.76881172e-01, 2.92835066e-01]]])"
      ]
     },
     "execution_count": 37,
     "metadata": {},
     "output_type": "execute_result"
    }
   ],
   "source": [
    "np.random.random((4,3,4))"
   ]
  },
  {
   "cell_type": "markdown",
   "id": "a105d6c3",
   "metadata": {},
   "source": [
    "### Meratakan aray \n",
    "* .flatten() => membuat salinan array baru\n",
    "* .ravel() => perubahan juga berpengaruh ke array induk"
   ]
  },
  {
   "cell_type": "code",
   "execution_count": 38,
   "id": "8614952f",
   "metadata": {},
   "outputs": [
    {
     "data": {
      "text/plain": [
       "array([[0, 1, 2],\n",
       "       [3, 4, 5]])"
      ]
     },
     "execution_count": 38,
     "metadata": {},
     "output_type": "execute_result"
    }
   ],
   "source": [
    "arr"
   ]
  },
  {
   "cell_type": "code",
   "execution_count": 39,
   "id": "a0e3c892",
   "metadata": {},
   "outputs": [
    {
     "data": {
      "text/plain": [
       "array([0, 1, 2, 3, 4, 5])"
      ]
     },
     "execution_count": 39,
     "metadata": {},
     "output_type": "execute_result"
    }
   ],
   "source": [
    "arr.flatten()"
   ]
  },
  {
   "cell_type": "code",
   "execution_count": 40,
   "id": "1f621237",
   "metadata": {},
   "outputs": [
    {
     "data": {
      "text/plain": [
       "array([[0, 1, 2],\n",
       "       [3, 4, 5]])"
      ]
     },
     "execution_count": 40,
     "metadata": {},
     "output_type": "execute_result"
    }
   ],
   "source": [
    "arr"
   ]
  },
  {
   "cell_type": "code",
   "execution_count": 42,
   "id": "e9baea65",
   "metadata": {},
   "outputs": [
    {
     "data": {
      "text/plain": [
       "array([0, 1, 2, 3, 4, 5])"
      ]
     },
     "execution_count": 42,
     "metadata": {},
     "output_type": "execute_result"
    }
   ],
   "source": [
    "arr.ravel()"
   ]
  },
  {
   "cell_type": "code",
   "execution_count": 43,
   "id": "2ff5ecd7",
   "metadata": {},
   "outputs": [
    {
     "data": {
      "text/plain": [
       "array([[0, 1, 2],\n",
       "       [3, 4, 5]])"
      ]
     },
     "execution_count": 43,
     "metadata": {},
     "output_type": "execute_result"
    }
   ],
   "source": [
    "arr"
   ]
  },
  {
   "cell_type": "markdown",
   "id": "be9ad7de",
   "metadata": {},
   "source": [
    "### Menerapkan rumus ke numpy"
   ]
  },
  {
   "cell_type": "code",
   "execution_count": 45,
   "id": "86f0536e",
   "metadata": {},
   "outputs": [
    {
     "data": {
      "text/plain": [
       "8.333333333333332"
      ]
     },
     "execution_count": 45,
     "metadata": {},
     "output_type": "execute_result"
    }
   ],
   "source": [
    "n = 3\n",
    "observed = 75\n",
    "prediction = 70\n",
    "\n",
    "# Rumus mean square error => rumus utama yang digunakan dalam supervised \n",
    "# machine learning model yang menangani regresi\n",
    "error = (1/n) * np.sum(np.square(observed - prediction))\n",
    "error"
   ]
  },
  {
   "cell_type": "code",
   "execution_count": 46,
   "id": "3c7831d9",
   "metadata": {},
   "outputs": [],
   "source": [
    "# np.square untuk kuadrat"
   ]
  },
  {
   "cell_type": "code",
   "execution_count": null,
   "id": "14093d5c",
   "metadata": {},
   "outputs": [],
   "source": []
  }
 ],
 "metadata": {
  "kernelspec": {
   "display_name": "Python 3 (ipykernel)",
   "language": "python",
   "name": "python3"
  },
  "language_info": {
   "codemirror_mode": {
    "name": "ipython",
    "version": 3
   },
   "file_extension": ".py",
   "mimetype": "text/x-python",
   "name": "python",
   "nbconvert_exporter": "python",
   "pygments_lexer": "ipython3",
   "version": "3.9.13"
  }
 },
 "nbformat": 4,
 "nbformat_minor": 5
}
