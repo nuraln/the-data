{
 "cells": [
  {
   "cell_type": "markdown",
   "id": "0034a19f",
   "metadata": {},
   "source": [
    "# Function, Module dan Package"
   ]
  },
  {
   "cell_type": "code",
   "execution_count": 1,
   "id": "51f8b9a1",
   "metadata": {},
   "outputs": [],
   "source": [
    "# Contoh function untuk menghitung luas\n",
    "def luas(p, l):\n",
    "    print(p * l)"
   ]
  },
  {
   "cell_type": "code",
   "execution_count": 2,
   "id": "c9282989",
   "metadata": {},
   "outputs": [
    {
     "name": "stdout",
     "output_type": "stream",
     "text": [
      "63\n"
     ]
    }
   ],
   "source": [
    "luas(7, 9)"
   ]
  },
  {
   "cell_type": "code",
   "execution_count": 5,
   "id": "e374da32",
   "metadata": {},
   "outputs": [
    {
     "name": "stdout",
     "output_type": "stream",
     "text": [
      "I'm first call to user defined function!\n",
      "Again second call to the same function\n"
     ]
    }
   ],
   "source": [
    "def printme( str ):\n",
    "    \"This prints a passed string into this function\"\n",
    "    print(str)\n",
    "    return;\n",
    "\n",
    "# Now you can call printme function\n",
    "printme(\"I'm first call to user defined function!\")\n",
    "printme(\"Again second call to the same function\")"
   ]
  },
  {
   "cell_type": "code",
   "execution_count": 8,
   "id": "dfe70532",
   "metadata": {},
   "outputs": [
    {
     "name": "stdout",
     "output_type": "stream",
     "text": [
      "Values inside the function:  [10, 20, 30, [1, 2, 3, 4]]\n",
      "nilai di luar fungsi:  [10, 20, 30, [1, 2, 3, 4]]\n"
     ]
    }
   ],
   "source": [
    "def changeme ( mylist ):\n",
    "    \"This changes a passed list into this function\"\n",
    "    mylist.append([1,2,3,4])\n",
    "    print(\"Values inside the function: \", mylist)\n",
    "    return\n",
    "\n",
    "mylist = [10, 20, 30];\n",
    "changeme( mylist );\n",
    "print(\"nilai di luar fungsi: \", mylist)"
   ]
  },
  {
   "cell_type": "code",
   "execution_count": 11,
   "id": "a764dd0d",
   "metadata": {},
   "outputs": [
    {
     "name": "stdout",
     "output_type": "stream",
     "text": [
      "Values outside the function:  [1, 2, 3, 4]\n",
      "Nilai di luar fungsi:  [10, 20, 30]\n"
     ]
    }
   ],
   "source": [
    "def changeme( list ):\n",
    "    \"Fungsi ini mengubah list ke fungsi\"\n",
    "    list01 = [1,2,3,4];\n",
    "    print(\"Values outside the function: \", list01)\n",
    "\n",
    "list01 = [10, 20, 30];\n",
    "changeme( list01 )\n",
    "print(\"Nilai di luar fungsi: \", list01)"
   ]
  },
  {
   "cell_type": "code",
   "execution_count": 14,
   "id": "353d9506",
   "metadata": {},
   "outputs": [
    {
     "name": "stdout",
     "output_type": "stream",
     "text": [
      "Nur Anisah\n"
     ]
    }
   ],
   "source": [
    "# Fungsi string \n",
    "def printme( str ):\n",
    "    \"Fungsi ini menampilkan string\"\n",
    "    print(str)\n",
    "    return;\n",
    "\n",
    "# memanggil fungsi\n",
    "printme(str = \"Nur Anisah\")"
   ]
  },
  {
   "cell_type": "code",
   "execution_count": 15,
   "id": "ab4530fb",
   "metadata": {},
   "outputs": [
    {
     "name": "stdout",
     "output_type": "stream",
     "text": [
      "Nama:  Nisa\n",
      "Usia:  20\n"
     ]
    }
   ],
   "source": [
    "# Urutan dari parameter tidak menjadi masalah, jika dipake =\n",
    "def identitas(nama, usia):\n",
    "    print(\"Nama: \", nama)\n",
    "    print(\"Usia: \", usia)\n",
    "    return;\n",
    "\n",
    "identitas(usia=20, nama=\"Nisa\")"
   ]
  },
  {
   "cell_type": "code",
   "execution_count": 18,
   "id": "e8aa0151",
   "metadata": {},
   "outputs": [
    {
     "name": "stdout",
     "output_type": "stream",
     "text": [
      "Nama:  Nisa\n",
      "Usia:  17\n",
      "\n",
      "Nama:  Nura\n",
      "Usia:  20\n"
     ]
    }
   ],
   "source": [
    "# Default argumen\n",
    "def default(nama, usia = 20):\n",
    "    print(\"Nama: \", nama)\n",
    "    print(\"Usia: \", usia)\n",
    "    return;\n",
    "\n",
    "default(usia=17, nama=\"Nisa\")\n",
    "print()\n",
    "default(nama=\"Nura\")\n"
   ]
  },
  {
   "cell_type": "code",
   "execution_count": 26,
   "id": "576132e4",
   "metadata": {},
   "outputs": [
    {
     "name": "stdout",
     "output_type": "stream",
     "text": [
      "Outputnya adalah: \n",
      "10\n",
      "Outputnya adalah: \n",
      "10\n",
      "20\n",
      "30\n"
     ]
    }
   ],
   "source": [
    "# Variable-length arguments\n",
    "# >> memproses fungsi untuk menerima lebih banyak argumen drpd yang telah kita tentukan\n",
    "def lebih_banyak(terserah, *vartuple):\n",
    "#     bedanya cuma di bintang (*vartuple) ini aja sih\n",
    "    print(\"Outputnya adalah: \")\n",
    "    print(terserah)\n",
    "    for semuanya in vartuple:\n",
    "        print(semuanya)\n",
    "    return;\n",
    "\n",
    "lebih_banyak(10)\n",
    "lebih_banyak(10,20,30)"
   ]
  },
  {
   "cell_type": "markdown",
   "id": "81296c72",
   "metadata": {},
   "source": [
    "### Fungsi tanpa nama\n",
    "> disebut anonymous, karena tidak dideklarasikan secara standar menggunakan keyword def.kita dapat menggunakan keyword lamda\n",
    "\n",
    "aturan lambda:\n",
    "* dapat mengambil berapapun argumen, tetapi hanya mengembalikan satu nilai dalam bentuk expression. Lambda tidak boleh beri commands atau multiple expressions.\n",
    "* Anonymous fungction tidak bisa dipanggil langsung melalui print karena lambda memerlukan expression.\n",
    "* Lambda functions memiliki namespace local sendiri dan tidak dapat mengakses variabel selain yang ada di daftar parameternya dan yang ada di namespace global.\n",
    "\n",
    "> sintaks lambda function mengandung hanya single statement, seperti dibawah ini:\n",
    "lambda[arg1 [,arg2, ....... argn]]:expression"
   ]
  },
  {
   "cell_type": "code",
   "execution_count": 33,
   "id": "6d0bb62f",
   "metadata": {},
   "outputs": [
    {
     "name": "stdout",
     "output_type": "stream",
     "text": [
      "nilai total:  None\n"
     ]
    }
   ],
   "source": [
    "# Kode ini tidak mengembalikan nilai apapun\n",
    "sum = lambda nilai1, nilai2: nilai1 + nilai2;\n",
    "\n",
    "def sum(nilai1, nilai2):\n",
    "    nilai1 + nilai2\n",
    "    \n",
    "print(\"nilai total: \", sum(10, 20))"
   ]
  },
  {
   "cell_type": "code",
   "execution_count": 37,
   "id": "953b494c",
   "metadata": {},
   "outputs": [
    {
     "name": "stdout",
     "output_type": "stream",
     "text": [
      "di dalam function:  190\n",
      "Ini diluar function:  290\n"
     ]
    }
   ],
   "source": [
    "def sum(nilai1, nilai2):\n",
    "    total = nilai1 + nilai2\n",
    "    total2 = total + nilai1\n",
    "    print(\"di dalam function: \", total)\n",
    "    return total2\n",
    "\n",
    "total = sum(100, 90)\n",
    "print(\"Ini diluar function: \", total)\n",
    "\n",
    "# Kenapa berbeda? Karena yang di dalam fungsi menampilakan langsung nilai totalnya, sementara yang diluar \n",
    "# fungsi memasukkan nilai yang diinputkan kedaolam fungsi total2\n",
    "\n",
    "# WORK JUGAA\n",
    "# print()\n",
    "# totalSS = sum(100, 90)\n",
    "# print(\"Ini diluar function: \", totalSS)"
   ]
  },
  {
   "cell_type": "markdown",
   "id": "067d2869",
   "metadata": {},
   "source": [
    "### Variable scoope and modular proggramming\n",
    " Keuntungan modularisasi kode\n",
    "* Simplicity\n",
    "* Maintanability\n",
    "* Reusability\n",
    "* Scooping"
   ]
  },
  {
   "cell_type": "code",
   "execution_count": 1,
   "id": "f188b9ae",
   "metadata": {},
   "outputs": [
    {
     "name": "stdout",
     "output_type": "stream",
     "text": [
      "Name: pandas\n",
      "Version: 1.4.4\n",
      "Summary: Powerful data structures for data analysis, time series, and statistics\n",
      "Home-page: https://pandas.pydata.org\n",
      "Author: The Pandas Development Team\n",
      "Author-email: pandas-dev@python.org\n",
      "License: BSD-3-Clause\n",
      "Location: c:\\users\\acer\\anaconda3\\lib\\site-packages\n",
      "Requires: numpy, python-dateutil, pytz\n",
      "Required-by: datashader, holoviews, hvplot, seaborn, statsmodels, themes, xarray\n"
     ]
    }
   ],
   "source": [
    "!pip show pandas"
   ]
  },
  {
   "cell_type": "code",
   "execution_count": 2,
   "id": "24445879",
   "metadata": {},
   "outputs": [
    {
     "name": "stdout",
     "output_type": "stream",
     "text": [
      "Name: matplotlib\n",
      "Version: 3.5.2\n",
      "Summary: Python plotting package\n",
      "Home-page: https://matplotlib.org\n",
      "Author: John D. Hunter, Michael Droettboom\n",
      "Author-email: matplotlib-users@python.org\n",
      "License: PSF\n",
      "Location: c:\\users\\acer\\anaconda3\\lib\\site-packages\n",
      "Requires: cycler, fonttools, kiwisolver, numpy, packaging, pillow, pyparsing, python-dateutil\n",
      "Required-by: jupyterthemes, seaborn, wordcloud\n"
     ]
    }
   ],
   "source": [
    "!pip show matplotlib"
   ]
  },
  {
   "cell_type": "code",
   "execution_count": null,
   "id": "51dc07d8",
   "metadata": {},
   "outputs": [],
   "source": []
  }
 ],
 "metadata": {
  "kernelspec": {
   "display_name": "Python 3 (ipykernel)",
   "language": "python",
   "name": "python3"
  },
  "language_info": {
   "codemirror_mode": {
    "name": "ipython",
    "version": 3
   },
   "file_extension": ".py",
   "mimetype": "text/x-python",
   "name": "python",
   "nbconvert_exporter": "python",
   "pygments_lexer": "ipython3",
   "version": "3.9.13"
  }
 },
 "nbformat": 4,
 "nbformat_minor": 5
}
